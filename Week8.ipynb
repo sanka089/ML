{
 "cells": [
  {
   "cell_type": "code",
   "execution_count": 6,
   "id": "db4f2718-db0c-42af-a45b-7efedc7a2e80",
   "metadata": {},
   "outputs": [],
   "source": [
    "import numpy as np\n",
    "X = np.array(([2, 9], [1, 5], [3, 6]), dtype=float) \n",
    "Y= np.array(([92], [86], [89]), dtype=float)\n",
    "X = X/np.amax(X,axis=0)\n",
    "Y= Y/100"
   ]
  },
  {
   "cell_type": "code",
   "execution_count": 8,
   "id": "bb2b6517-f7bb-46aa-96ca-5e813c1d08ac",
   "metadata": {},
   "outputs": [],
   "source": [
    "epoch=5000\n",
    "lr=0.1\n",
    "inputlayer_neurons = 2\n",
    "hiddenlayer_neurons = 3\n",
    "output_neurons = 1"
   ]
  },
  {
   "cell_type": "code",
   "execution_count": 11,
   "id": "c7ead521-5f25-42db-8bfb-cf60ce54ba76",
   "metadata": {},
   "outputs": [],
   "source": [
    "wh=np.random.uniform(size=(inputlayer_neurons, hiddenlayer_neurons))\n",
    "bh=np.random.uniform(size=(1,hiddenlayer_neurons))\n",
    "wout=np.random.uniform(size=(hiddenlayer_neurons,output_neurons))  \n",
    "bout=np.random.uniform(size=(1,output_neurons))"
   ]
  },
  {
   "cell_type": "code",
   "execution_count": 31,
   "id": "d83b3dfc-88c7-4a90-bb74-03d4c433e4b0",
   "metadata": {},
   "outputs": [],
   "source": [
    "def sigmoid(X):\n",
    "    return 1/(1 + np.exp(-X))\n",
    "\n"
   ]
  },
  {
   "cell_type": "code",
   "execution_count": 27,
   "id": "60f28411-f1a1-4744-8a1e-a55c9393170a",
   "metadata": {},
   "outputs": [],
   "source": [
    "def derivatives_sigmoid(x):\n",
    "    return x * (1 - x)\n",
    "    "
   ]
  },
  {
   "cell_type": "code",
   "execution_count": 32,
   "id": "fc1d6171-8105-44c3-98b0-29f2fa6a603a",
   "metadata": {},
   "outputs": [],
   "source": [
    "for i in range(epoch):\n",
    "\n",
    "    hinp1=np.dot (X, wh)\n",
    "    hinp=hinp1 + bh\n",
    "    hlayer_act =sigmoid(hinp) \n",
    "    outinp1=np.dot (hlayer_act, wout)\n",
    "    outinp= outinp1+ bout\n",
    "    output =sigmoid (outinp)\n",
    "    \n",
    "    EO =y-output\n",
    "    outgrad =derivatives_sigmoid (output)\n",
    "    d_output = EO* outgrad\n",
    "    EH = d_output.dot (wout.T)"
   ]
  },
  {
   "cell_type": "code",
   "execution_count": 33,
   "id": "47b633f5-d42d-4604-b8ac-d3e2424c1958",
   "metadata": {},
   "outputs": [],
   "source": [
    "hiddengrad =  derivatives_sigmoid(hlayer_act) \n",
    "d_hiddenlayer= EH *hiddengrad"
   ]
  },
  {
   "cell_type": "code",
   "execution_count": 34,
   "id": "9a12a124-e30f-4023-b087-cb4986341e7d",
   "metadata": {},
   "outputs": [],
   "source": [
    "wout += hlayer_act.T.dot(d_output) *lr\n",
    "wh += X.T.dot (d_hiddenlayer) *lr"
   ]
  },
  {
   "cell_type": "code",
   "execution_count": 35,
   "id": "cd4b9f9f-c8ea-4894-8fb6-a57754057efd",
   "metadata": {},
   "outputs": [
    {
     "name": "stdout",
     "output_type": "stream",
     "text": [
      "Input: \n",
      "[[0.66666667 1.        ]\n",
      " [0.33333333 0.55555556]\n",
      " [1.         0.66666667]]\n",
      "Actual Output: \n",
      "[[92.]\n",
      " [86.]\n",
      " [89.]]\n",
      "Predicted Output: \n",
      " [[0.84284073]\n",
      " [0.83454433]\n",
      " [0.84188144]]\n"
     ]
    }
   ],
   "source": [
    "print(\"Input: \\n\" + str(X))\n",
    "print(\"Actual Output: \\n\" + str(y))\n",
    "print(\"Predicted Output: \\n\",output)"
   ]
  },
  {
   "cell_type": "code",
   "execution_count": null,
   "id": "d81c4dcb-fd28-4049-8fe6-3d712da319eb",
   "metadata": {},
   "outputs": [],
   "source": []
  }
 ],
 "metadata": {
  "kernelspec": {
   "display_name": "Python 3 (ipykernel)",
   "language": "python",
   "name": "python3"
  },
  "language_info": {
   "codemirror_mode": {
    "name": "ipython",
    "version": 3
   },
   "file_extension": ".py",
   "mimetype": "text/x-python",
   "name": "python",
   "nbconvert_exporter": "python",
   "pygments_lexer": "ipython3",
   "version": "3.11.7"
  }
 },
 "nbformat": 4,
 "nbformat_minor": 5
}
